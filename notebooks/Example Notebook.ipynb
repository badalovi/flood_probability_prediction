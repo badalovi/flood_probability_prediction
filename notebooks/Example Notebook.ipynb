{
 "cells": [
  {
   "cell_type": "markdown",
   "id": "020f21de",
   "metadata": {},
   "source": [
    "### Introduction\n",
    "This notebook is designed to showcase the usage of the ML trainin workflow, while does not seek to fit the best model.\n",
    "<br> 100K sample is sliced and used from both test and train datasets for the simplicity."
   ]
  },
  {
   "cell_type": "code",
   "execution_count": 43,
   "id": "ef1f3b75",
   "metadata": {},
   "outputs": [],
   "source": [
    "# Setting Up Directory\n",
    "\n",
    "import os\n",
    "from os.path import join, dirname\n",
    "\n",
    "initial_dir = os.getcwd()\n",
    "\n",
    "if initial_dir.endswith('notebooks'):\n",
    "    proj_dir = dirname(initial_dir)\n",
    "\n",
    "data_dir = join(proj_dir,'data')\n",
    "os.chdir(proj_dir)\n"
   ]
  },
  {
   "cell_type": "code",
   "execution_count": 44,
   "id": "2b318a48",
   "metadata": {},
   "outputs": [],
   "source": [
    "# Importing Libraries\n",
    "import pandas as pd\n",
    "import numpy as np\n",
    "\n",
    "from model_development.utils import *\n",
    "from model_development.FeatureEngineering import FeatureEngineering\n",
    "from model_development.ModelTraining import ModelTraining\n",
    "\n",
    "from catboost import CatBoostRegressor\n",
    "from sklearn.metrics import mean_squared_error, mean_absolute_error, r2_score"
   ]
  },
  {
   "cell_type": "code",
   "execution_count": 45,
   "id": "8381cd6e",
   "metadata": {},
   "outputs": [],
   "source": [
    "# Importing Train and Test\n",
    "\n",
    "train = pd.read_csv(join(data_dir,'train.csv'))\n",
    "test =pd.read_csv(join(data_dir,'test.csv'))\n",
    "\n",
    "train.columns = train.columns.str.lower()\n",
    "train.drop(columns='id', inplace=True)\n",
    "\n",
    "test.columns = test.columns.str.lower()\n",
    "test_id = test.id\n",
    "test.drop(columns='id', inplace=True)\n",
    "\n",
    "# For the sake of simplicity, let's take 100K sample from train data\n",
    "train = train.iloc[:100000,:]\n",
    "\n",
    "X = train.drop(columns='floodprobability')\n",
    "y = train.floodprobability"
   ]
  },
  {
   "cell_type": "markdown",
   "id": "0e12f6f0",
   "metadata": {},
   "source": [
    "### Training a base model\n",
    "Here we train a baseline model with original features and default parameters, to see whether our tuned with engineered features can make any difference."
   ]
  },
  {
   "cell_type": "code",
   "execution_count": 46,
   "id": "93584d35",
   "metadata": {},
   "outputs": [
    {
     "name": "stdout",
     "output_type": "stream",
     "text": [
      "MSE Train: 0.0004 \n",
      "MSE Test: 0.0004 \n",
      " \n",
      "MAE Train: 0.0150 \n",
      "MAE Test: 0.0158 \n",
      " \n",
      "R2 Train: 0.8374 \n",
      "R2 Test: 0.8129\n"
     ]
    }
   ],
   "source": [
    "# Split into train tesat\n",
    "X_train, X_test, y_train, y_test = train_test_ind(np.array(X),np.array(y))\n",
    "\n",
    "# Train a LGBM Regressor\n",
    "base_catb = CatBoostRegressor(verbose=False)\n",
    "base_catb.fit(X_train,y_train)\n",
    "y_pred_train = base_catb.predict(X_train)\n",
    "y_pred_test = base_catb.predict(X_test)\n",
    "\n",
    "mse_train = mean_squared_error(y_pred_train, y_train)\n",
    "mse_test = mean_squared_error(y_pred_test, y_test)\n",
    "\n",
    "mae_train = mean_absolute_error(y_pred_train, y_train)\n",
    "mae_test = mean_absolute_error(y_pred_test, y_test)\n",
    "\n",
    "r2_train = r2_score(y_pred_train, y_train)\n",
    "r2_test = r2_score(y_pred_test, y_test)\n",
    "\n",
    "print(f'MSE Train: {mse_train:.4f} \\nMSE Test: {mse_test:.4f} \\n \\nMAE Train: {mae_train:.4f} \\nMAE Test: {mae_test:.4f} \\n \\nR2 Train: {r2_train:.4f} \\nR2 Test: {r2_test:.4f}')"
   ]
  },
  {
   "cell_type": "markdown",
   "id": "e2a21ea9",
   "metadata": {},
   "source": [
    "### Feature Engineering"
   ]
  },
  {
   "cell_type": "code",
   "execution_count": 47,
   "id": "37ca7b65",
   "metadata": {},
   "outputs": [],
   "source": [
    "feat_engineering = FeatureEngineering()\n",
    "feat_engineering.fit(X)\n",
    "\n",
    "X_transformed = feat_engineering.transform(X)\n",
    "X_test_transformed = feat_engineering.transform(test)"
   ]
  },
  {
   "cell_type": "markdown",
   "id": "83712b45",
   "metadata": {},
   "source": [
    "### Hyperparameter Tuning and Final Model Fitting\n",
    "We feed the workflow with a set of parameters, and set feature engineering method to *pca*."
   ]
  },
  {
   "cell_type": "code",
   "execution_count": 48,
   "id": "44dc8508",
   "metadata": {},
   "outputs": [
    {
     "name": "stdout",
     "output_type": "stream",
     "text": [
      "Feature Selection has been started\n",
      "\n",
      "Hyperparameter Tuning has been started\n",
      "Fitting 3 folds for each of 6 candidates, totalling 18 fits\n",
      "\n",
      "Hyperparameter tuning has been done\n",
      "\n",
      "Best model is being fitted..\n"
     ]
    }
   ],
   "source": [
    "# Define the grid search parameters\n",
    "grid_search_params = {\n",
    "    'learning_rate': [0.05, 0.075, 0.1],\n",
    "    'depth': [3,5],\n",
    "    'iterations': [1000]\n",
    "}\n",
    "\n",
    "\n",
    "# Instantiate the ModelTraining class and fit\n",
    "model_trainer = ModelTraining(\n",
    "                            feature_selection=True,\n",
    "                            grid_search_params=grid_search_params,\n",
    "                            feature_selection_method='pca',\n",
    "                            cv = 3)\n",
    "\n",
    "\n",
    "model_trainer.fit(X_transformed, y)"
   ]
  },
  {
   "cell_type": "code",
   "execution_count": 50,
   "id": "dcb3107c",
   "metadata": {},
   "outputs": [
    {
     "data": {
      "text/html": [
       "<div>\n",
       "<style scoped>\n",
       "    .dataframe tbody tr th:only-of-type {\n",
       "        vertical-align: middle;\n",
       "    }\n",
       "\n",
       "    .dataframe tbody tr th {\n",
       "        vertical-align: top;\n",
       "    }\n",
       "\n",
       "    .dataframe thead th {\n",
       "        text-align: right;\n",
       "    }\n",
       "</style>\n",
       "<table border=\"1\" class=\"dataframe\">\n",
       "  <thead>\n",
       "    <tr style=\"text-align: right;\">\n",
       "      <th></th>\n",
       "      <th>param_depth</th>\n",
       "      <th>param_iterations</th>\n",
       "      <th>param_learning_rate</th>\n",
       "      <th>mean_test_score</th>\n",
       "      <th>std_test_score</th>\n",
       "      <th>rank_test_score</th>\n",
       "    </tr>\n",
       "  </thead>\n",
       "  <tbody>\n",
       "    <tr>\n",
       "      <th>2</th>\n",
       "      <td>3</td>\n",
       "      <td>1000</td>\n",
       "      <td>0.1</td>\n",
       "      <td>-0.000404</td>\n",
       "      <td>0.000004</td>\n",
       "      <td>1</td>\n",
       "    </tr>\n",
       "    <tr>\n",
       "      <th>4</th>\n",
       "      <td>5</td>\n",
       "      <td>1000</td>\n",
       "      <td>0.075</td>\n",
       "      <td>-0.000404</td>\n",
       "      <td>0.000004</td>\n",
       "      <td>2</td>\n",
       "    </tr>\n",
       "    <tr>\n",
       "      <th>5</th>\n",
       "      <td>5</td>\n",
       "      <td>1000</td>\n",
       "      <td>0.1</td>\n",
       "      <td>-0.000404</td>\n",
       "      <td>0.000004</td>\n",
       "      <td>3</td>\n",
       "    </tr>\n",
       "    <tr>\n",
       "      <th>3</th>\n",
       "      <td>5</td>\n",
       "      <td>1000</td>\n",
       "      <td>0.05</td>\n",
       "      <td>-0.000406</td>\n",
       "      <td>0.000004</td>\n",
       "      <td>4</td>\n",
       "    </tr>\n",
       "    <tr>\n",
       "      <th>1</th>\n",
       "      <td>3</td>\n",
       "      <td>1000</td>\n",
       "      <td>0.075</td>\n",
       "      <td>-0.000407</td>\n",
       "      <td>0.000004</td>\n",
       "      <td>5</td>\n",
       "    </tr>\n",
       "    <tr>\n",
       "      <th>0</th>\n",
       "      <td>3</td>\n",
       "      <td>1000</td>\n",
       "      <td>0.05</td>\n",
       "      <td>-0.000427</td>\n",
       "      <td>0.000005</td>\n",
       "      <td>6</td>\n",
       "    </tr>\n",
       "  </tbody>\n",
       "</table>\n",
       "</div>"
      ],
      "text/plain": [
       "  param_depth param_iterations param_learning_rate  mean_test_score  \\\n",
       "2           3             1000                 0.1        -0.000404   \n",
       "4           5             1000               0.075        -0.000404   \n",
       "5           5             1000                 0.1        -0.000404   \n",
       "3           5             1000                0.05        -0.000406   \n",
       "1           3             1000               0.075        -0.000407   \n",
       "0           3             1000                0.05        -0.000427   \n",
       "\n",
       "   std_test_score  rank_test_score  \n",
       "2        0.000004                1  \n",
       "4        0.000004                2  \n",
       "5        0.000004                3  \n",
       "3        0.000004                4  \n",
       "1        0.000004                5  \n",
       "0        0.000005                6  "
      ]
     },
     "execution_count": 50,
     "metadata": {},
     "output_type": "execute_result"
    }
   ],
   "source": [
    "# Checking hyperparameter tuning results\n",
    "model_trainer.grid_search_result.sort_values('rank_test_score')"
   ]
  },
  {
   "cell_type": "code",
   "execution_count": 51,
   "id": "0e80769a",
   "metadata": {},
   "outputs": [
    {
     "name": "stdout",
     "output_type": "stream",
     "text": [
      "MSE Train: 0.0004 \n",
      "MSE Test: 0.0004 \n",
      " \n",
      "MAE Train: 0.0157 \n",
      "MAE Test: 0.0159 \n",
      " \n",
      "R2 Train: 0.8182 \n",
      "R2 Test: 0.8089\n"
     ]
    }
   ],
   "source": [
    "# Getting train test performance of the final/best model (rank=1)\n",
    "model_trainer.get_train_test_performance()"
   ]
  },
  {
   "cell_type": "code",
   "execution_count": 52,
   "id": "4d11b29b",
   "metadata": {},
   "outputs": [],
   "source": [
    "# We change the final model to be the second best model according to grid search results\n",
    "model_trainer.set_final_model(rank=2)"
   ]
  },
  {
   "cell_type": "code",
   "execution_count": 53,
   "id": "c6a7c5ea",
   "metadata": {},
   "outputs": [
    {
     "name": "stdout",
     "output_type": "stream",
     "text": [
      "MSE Train: 0.0004 \n",
      "MSE Test: 0.0004 \n",
      " \n",
      "MAE Train: 0.0154 \n",
      "MAE Test: 0.0159 \n",
      " \n",
      "R2 Train: 0.8284 \n",
      "R2 Test: 0.8115\n"
     ]
    }
   ],
   "source": [
    "# Get train test performance for the updated final model\n",
    "model_trainer.get_train_test_performance()"
   ]
  },
  {
   "cell_type": "code",
   "execution_count": 54,
   "id": "7e3675c4",
   "metadata": {},
   "outputs": [
    {
     "data": {
      "text/plain": [
       "array([0.5721399 , 0.45706709, 0.45203093, 0.46599608, 0.46881078,\n",
       "       0.50567626, 0.53448679, 0.52936694, 0.47165999, 0.56920645])"
      ]
     },
     "execution_count": 54,
     "metadata": {},
     "output_type": "execute_result"
    }
   ],
   "source": [
    "# Make predictions\n",
    "model_trainer.predict(X_test_transformed)[0:10]"
   ]
  }
 ],
 "metadata": {
  "kernelspec": {
   "display_name": "Python 3 (ipykernel)",
   "language": "python",
   "name": "python3"
  },
  "language_info": {
   "codemirror_mode": {
    "name": "ipython",
    "version": 3
   },
   "file_extension": ".py",
   "mimetype": "text/x-python",
   "name": "python",
   "nbconvert_exporter": "python",
   "pygments_lexer": "ipython3",
   "version": "3.11.5"
  }
 },
 "nbformat": 4,
 "nbformat_minor": 5
}
